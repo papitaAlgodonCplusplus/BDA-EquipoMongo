{
 "cells": [
  {
   "cell_type": "markdown",
   "id": "725e862c",
   "metadata": {},
   "source": [
    "# Lab de MongoDB - Introduccion\n",
    "\n",
    "Las fuentes y recursos de este laboratorio provienen de \n",
    "- [mongodb-labs](https://github.com/mattdavis0351/mongodb-labs) por **Ishana Raina** y **Matthew Davis**"
   ]
  },
  {
   "cell_type": "markdown",
   "id": "a296490d",
   "metadata": {},
   "source": [
    "## Outline del Lab 1\n",
    "\n",
    "- De un JSON, crear la base de datos al MongoDB Server por medio de MongoDB Database Tools\n",
    "- Visualizar los datos de la base de datos\n",
    "- Anhadir datos y entender su funcionamiento"
   ]
  },
  {
   "cell_type": "markdown",
   "id": "5bd33705",
   "metadata": {},
   "source": [
    "## Crear base de datos por medio de JSON\n",
    "\n",
    "Para poder cargar los datos de un JSON hacia MongoDB creando una base de datos, se tiene que usar el ejecutable `mongoimport`, este ejecutable(que es una instalacion aparte de MongoDB Server) nos pide:\n",
    "<pre>\n",
    "- --db          Nombre de la base de datos\n",
    "- --collection  Nombre de la coleccion(tabla)\n",
    "- --file        Localizacion del archivo\n",
    "- --jsonArray   Indica que el JSON a importar es un arreglo\n",
    "</pre>\n",
    "\n",
    "Y con esto podremos cargar la base de datos a MongoDB"
   ]
  },
  {
   "cell_type": "code",
   "execution_count": null,
   "id": "4dc45ed1",
   "metadata": {
    "vscode": {
     "languageId": "bat"
    }
   },
   "outputs": [],
   "source": [
    "mongoimport --db sample_mflix --collection movies --file \"C:\\Users<completar el path con el movies.json en la carpeta data>\" --jsonArray"
   ]
  },
  {
   "cell_type": "markdown",
   "id": "5ded8b9c",
   "metadata": {},
   "source": [
    "Para eliminar una base de datos hay que realizar lo siguiente\n",
    "```bat\n",
    ":: Ingrear a mongosh para manipular la base de datos\n",
    "mongosh\n",
    "\n",
    ":: Mostrar las bases de datos existentes\n",
    "show databases\n",
    "\n",
    ":: Seleccionar la base de datos a borrar\n",
    "use <nombreBD>\n",
    "\n",
    ":: Borrar la base de datos\n",
    "db.dropDatabase()\n",
    "```"
   ]
  },
  {
   "cell_type": "markdown",
   "id": "b63630d6",
   "metadata": {},
   "source": [
    "## Pymongo\n",
    "\n",
    "Para poder usar MongoDB en python, hay que descargar por medio de pip `pymongo`, driver para poder aceder al API de MongoDB y manipular la base de datos\n",
    "Para instalarlo hay que ejecutar `pip install pymongo`, y se podra acceder a MongoDB desde python"
   ]
  },
  {
   "cell_type": "code",
   "execution_count": null,
   "id": "18b2503e",
   "metadata": {
    "vscode": {
     "languageId": "bat"
    }
   },
   "outputs": [],
   "source": [
    "pip install pymongo"
   ]
  },
  {
   "cell_type": "markdown",
   "id": "47fba6dd",
   "metadata": {},
   "source": [
    "# Setup\n",
    "\n",
    "Ahora con el driver instalado, hay que importarlo y usarlo\n",
    "\n",
    "Recordar tener `mongod` corriendo en una terminal para que funcione"
   ]
  },
  {
   "cell_type": "code",
   "execution_count": 1,
   "id": "c994ca3a",
   "metadata": {},
   "outputs": [],
   "source": [
    "from pymongo import MongoClient\n",
    "client = MongoClient()\n",
    "\n",
    "# Confirmar la conexion a MongoDB\n",
    "client.server_info()"
   ]
  },
  {
   "cell_type": "markdown",
   "id": "d29fd8f1",
   "metadata": {},
   "source": [
    "# Conseguir los datos cargados\n",
    "\n",
    "Ahora para poder conseguir los datos de una coleccion(`db.movies`), podemos usar distintas funciones para ello, como las siguientes:\n",
    "<pre>\n",
    "- find_one()                Recupera el primer documento dentro de la coleccion\n",
    "- distinct('')              Recupera una sola vez los valores distintos segun la llave especificada\n",
    "- find({})                  Recupera multiples documentos solo si cumplen con el \n",
    "                            filtro especificado(si esta vacio entonces recupera todos los documentos)\n",
    "- find({}, {'filter': 1})   Lo mismo que \"find()\" pero con la capacidad de mostrar \n",
    "                            los documentos filtrando las llaves que querramos de los documentos\n",
    "- aggregate(pipeline)       Recupera y agrupa los documentos segun los valores de la llave \n",
    "                            especificada por el pipeline, y aplica una opercion sobre los grupos formados\n",
    "</pre>\n"
   ]
  },
  {
   "cell_type": "code",
   "execution_count": 31,
   "id": "2cc8176f",
   "metadata": {},
   "outputs": [],
   "source": [
    "# Setup de las variables a usar\n",
    "db = client.sample_mflix\n",
    "moviesCollection = db.movies"
   ]
  },
  {
   "cell_type": "code",
   "execution_count": null,
   "id": "3fd6ed6c",
   "metadata": {},
   "outputs": [],
   "source": [
    "# find_one()\n",
    "\n",
    "result = db.movies.find_one()\n",
    "\n",
    "result"
   ]
  },
  {
   "cell_type": "code",
   "execution_count": null,
   "id": "36affb32",
   "metadata": {},
   "outputs": [],
   "source": [
    "# distinct('')\n",
    "\n",
    "uniqueNames = moviesCollection.distinct('name')\n",
    "print(uniqueNames)"
   ]
  },
  {
   "cell_type": "code",
   "execution_count": null,
   "id": "067102fc",
   "metadata": {},
   "outputs": [],
   "source": [
    "# find({})\n",
    "\n",
    "db = client.sample_mflix\n",
    "moviesCollection = db.movies\n",
    "allMovies = list(moviesCollection.find({}))\n",
    "\n",
    "allMovies[0]"
   ]
  },
  {
   "cell_type": "code",
   "execution_count": null,
   "id": "e64546d1",
   "metadata": {},
   "outputs": [],
   "source": [
    "# find({}, {'filter': 1})\n",
    "\n",
    "# Recuperando todos los documentos pero solo con la llave 'name', e ignorando todos los demas\n",
    "# Util para poder crear pipelines efectivas con metodos como el 'aggregate'\n",
    "allMovies = list(moviesCollection.find({}, {'name': 1}))\n",
    "allMovies[0]"
   ]
  },
  {
   "cell_type": "code",
   "execution_count": null,
   "id": "26e6e259",
   "metadata": {},
   "outputs": [],
   "source": [
    "# find({'filter': {operator}})\n",
    "\n",
    "# Usando el filtro con el operador 'regex' para encontrar peliculas que inician con el nombre 'Taylor'\n",
    "taylorMovies = list(moviesCollection.find({'name': {'$regex': 'Taylor.*'}}))\n",
    "taylorMovies"
   ]
  },
  {
   "cell_type": "code",
   "execution_count": null,
   "id": "3068dea3",
   "metadata": {},
   "outputs": [],
   "source": [
    "# aggregate(pipeline)\n",
    "\n",
    "# Agrupar las peliculas segun su nombre, y contar los elementos de cada grupo(o sea contar cuantos nombres se repiten)\n",
    "pipeline = [\n",
    "    {\n",
    "        '$group': {\n",
    "            '_id': '$name', # Criterio de agrupamiento\n",
    "            'count': {'$sum': 1} # Operacion de agrupamiento(mismo formato de los demas operadores del API)\n",
    "        }\n",
    "    }\n",
    "]\n",
    "\n",
    "result = moviesCollection.aggregate(pipeline)\n",
    "for item in result:\n",
    "    print(f\"Name: {item['_id'].ljust(18)} Count: {item['count']}\") # .ljust(40) mejora el formato de presentacion(left-justify text)"
   ]
  }
 ],
 "metadata": {
  "kernelspec": {
   "display_name": "Python 3",
   "language": "python",
   "name": "python3"
  },
  "language_info": {
   "codemirror_mode": {
    "name": "ipython",
    "version": 3
   },
   "file_extension": ".py",
   "mimetype": "text/x-python",
   "name": "python",
   "nbconvert_exporter": "python",
   "pygments_lexer": "ipython3",
   "version": "3.12.4"
  }
 },
 "nbformat": 4,
 "nbformat_minor": 5
}
