{
 "cells": [
  {
   "cell_type": "markdown",
   "id": "725e862c",
   "metadata": {},
   "source": [
    "# Lab de MongoDB - Introduccion\n",
    "\n",
    "Las fuentes y recursos de este laboratorio provienen de \n",
    "- [mongodb-labs](https://github.com/mattdavis0351/mongodb-labs) por **Ishana Raina** y **Matthew Davis**"
   ]
  },
  {
   "cell_type": "markdown",
   "id": "a296490d",
   "metadata": {},
   "source": [
    "## Outline del Lab 1\n",
    "\n",
    "- De un JSON, crear la base de datos al MongoDB Server por medio de MongoDB Database Tools\n",
    "- Visualizar los datos de la base de datos\n",
    "- Anhadir datos y entender su funcionamiento"
   ]
  },
  {
   "cell_type": "markdown",
   "id": "5bd33705",
   "metadata": {},
   "source": [
    "## Crear base de datos por medio de JSON\n",
    "\n",
    "Para poder cargar los datos de un JSON hacia MongoDB creando una base de datos, se tiene que usar el ejecutable `mongoimport`, este ejecutable(que es una instalacion aparte de MongoDB Server) nos pide:\n",
    "<pre>\n",
    "- --db          Nombre de la base de datos\n",
    "- --collection  Nombre de la coleccion(tabla)\n",
    "- --file        Localizacion del archivo\n",
    "- --jsonArray   Indica que el JSON a importar es un arreglo\n",
    "</pre>\n",
    "\n",
    "Y con esto podremos cargar la base de datos a MongoDB"
   ]
  },
  {
   "cell_type": "code",
   "execution_count": null,
   "id": "4dc45ed1",
   "metadata": {
    "vscode": {
     "languageId": "bat"
    }
   },
   "outputs": [],
   "source": [
    "mongoimport --db sample_mflix --collection movies --file \"C:\\Users<completar el path con el movies.json en la carpeta data>\" --jsonArray"
   ]
  },
  {
   "cell_type": "markdown",
   "id": "5ded8b9c",
   "metadata": {},
   "source": [
    "Para eliminar una base de datos hay que realizar lo siguiente\n",
    "```bat\n",
    ":: Ingrear a mongosh para manipular la base de datos\n",
    "mongosh\n",
    "\n",
    ":: Mostrar las bases de datos existentes\n",
    "show databases\n",
    "\n",
    ":: Seleccionar la base de datos a borrar\n",
    "use <nombreBD>\n",
    "\n",
    ":: Borrar la base de datos\n",
    "db.dropDatabase()\n",
    "```"
   ]
  },
  {
   "cell_type": "markdown",
   "id": "b63630d6",
   "metadata": {},
   "source": [
    "## Pymongo\n",
    "\n",
    "Para poder usar MongoDB en python, hay que descargar por medio de pip `pymongo`, driver para poder aceder al API de MongoDB y manipular la base de datos\n",
    "\n",
    "Para instalarlo hay que ejecutar `pip install pymongo`, y se podra acceder a MongoDB desde python"
   ]
  },
  {
   "cell_type": "code",
   "execution_count": null,
   "id": "18b2503e",
   "metadata": {
    "vscode": {
     "languageId": "bat"
    }
   },
   "outputs": [],
   "source": [
    "pip install pymongo"
   ]
  },
  {
   "cell_type": "markdown",
   "id": "47fba6dd",
   "metadata": {},
   "source": [
    "# Setup\n",
    "\n",
    "Ahora con el driver instalado, hay que importarlo y usarlo\n",
    "\n",
    "Recordar tener `mongod` corriendo en una terminal para que funcione"
   ]
  },
  {
   "cell_type": "code",
   "execution_count": null,
   "id": "c994ca3a",
   "metadata": {},
   "outputs": [],
   "source": [
    "from pymongo import MongoClient\n",
    "client = MongoClient()\n",
    "\n",
    "# Confirmar la conexion a MongoDB\n",
    "client.server_info()"
   ]
  },
  {
   "cell_type": "markdown",
   "id": "d29fd8f1",
   "metadata": {},
   "source": [
    "# Conseguir los datos cargados\n",
    "\n",
    "Ahora para poder conseguir los datos de una coleccion(`db.movies`), podemos usar distintas funciones para ello, como las siguientes:\n",
    "<pre>\n",
    "- find_one()                Recupera el primer documento dentro de la coleccion\n",
    "- find({})                  Recupera varios documentos solo si cumplen con el criterio dado(vacio recupera todos)\n",
    "- distinct('')              Recupera una sola vez los valores distintos segun la llave especificada\n",
    "                            filtro especificado(si esta vacio entonces recupera todos los documentos)\n",
    "- find({}, {'filter'})      Lo mismo que \"find()\" pero con la capacidad de mostrar \n",
    "                            los documentos filtrando las llaves que querramos de los documentos\n",
    "</pre>"
   ]
  },
  {
   "cell_type": "code",
   "execution_count": 87,
   "id": "2cc8176f",
   "metadata": {},
   "outputs": [],
   "source": [
    "# Setup de las variables a usar\n",
    "db = client.sample_mflix\n",
    "moviesCollection = db.movies"
   ]
  },
  {
   "cell_type": "code",
   "execution_count": null,
   "id": "3fd6ed6c",
   "metadata": {},
   "outputs": [],
   "source": [
    "# - find_one()                Recupera el primer documento dentro de la coleccion\n",
    "\n",
    "result = db.movies.find_one()\n",
    "\n",
    "result"
   ]
  },
  {
   "cell_type": "code",
   "execution_count": null,
   "id": "36affb32",
   "metadata": {},
   "outputs": [],
   "source": [
    "# - find({})                  Recupera multiples documentos solo si cumplen con el \n",
    "\n",
    "db = client.sample_mflix\n",
    "moviesCollection = db.movies\n",
    "allMovies = list(moviesCollection.find({}))\n",
    "\n",
    "print('Cantidad de pelicluas cargadas en la coleccion: ', len(allMovies))\n",
    "# Mostrando solo la primera pelicula de todas las que hay\n",
    "allMovies[0]"
   ]
  },
  {
   "cell_type": "code",
   "execution_count": null,
   "id": "067102fc",
   "metadata": {},
   "outputs": [],
   "source": [
    "# - distinct('')              Recupera una sola vez los valores distintos segun la llave especificada\n",
    "#                             filtro especificado(si esta vacio entonces recupera todos los documentos)\n",
    "\n",
    "# Usar distinct con la llave 'runtime' para ver todos los distintos runtimes existentes dentro de este dataset de peliculas\n",
    "uniqueNames = moviesCollection.distinct('runtime')\n",
    "print(uniqueNames)"
   ]
  },
  {
   "cell_type": "code",
   "execution_count": null,
   "id": "e64546d1",
   "metadata": {},
   "outputs": [],
   "source": [
    "# - find({}, {'filter'})      Lo mismo que \"find()\" pero con la capacidad de mostrar \n",
    "#                             los documentos filtrando las llaves que querramos de los documentos\n",
    "\n",
    "# Recuperando todos los documentos pero solo con las llaves '\"title\", \"imdb\", \"year\", \"plot\"', e ignorando todos los demas\n",
    "# Util para poder ver documentos con las llaves que nos interesen y evitar ver todas la propiedades que no nos importan\n",
    "allMovies = list(moviesCollection.find({}, {\"title\", \"imdb\", \"year\", \"plot\"}))\n",
    "allMovies[0]"
   ]
  },
  {
   "cell_type": "markdown",
   "id": "528550cd",
   "metadata": {},
   "source": [
    "# Conseguir y operar sobre los datos cargados\n",
    "\n",
    "Ademas de tener varias formas de conseguir los datos como tal, tambien podemos **realizar operaciones** sobre los mismos que nos devuelvan los mismos datos, pero centrandonos en transformar estos datos en formatos mas precisos\n",
    "<pre>\n",
    "- find({}, {'operator'})    Recupera los documentos que cumplan con un criterio de los operadores usados\n",
    "- find({}).sort(\"llave\", 1) El 'sort' permite ordenar los documentos conseguidos segun la 'llave' sobre\n",
    "                            la que querramos ordenar y la forma de ordenar                            \n",
    "- aggregate(pipeline)       Recupera los documentos segun operaciones especificadas como pares \n",
    "                            llave-valor dentro del pipeline y ejecuta las operaciones en los documentos \n",
    "</pre>"
   ]
  },
  {
   "cell_type": "code",
   "execution_count": null,
   "id": "26e6e259",
   "metadata": {},
   "outputs": [],
   "source": [
    "# - find({}, {'operator'})    Recupera los documentos que cumplan con un criterio de los operadores usados \n",
    "\n",
    "# Usando el filtro con el operador 'lt' para encontrar peliculas antes del anho 2011\n",
    "moviesFrom2011 = list(moviesCollection.find({'year': {'$lt': 2011}}, {\"title\"}))\n",
    "moviesFrom2011"
   ]
  },
  {
   "cell_type": "code",
   "execution_count": null,
   "id": "964c4ae4",
   "metadata": {},
   "outputs": [],
   "source": [
    "# - find({}, {'operator'})    Recupera los documentos que cumplan con un criterio de los operadores usados \n",
    "\n",
    "# Filtro con operadores para conseguir las peliculas con runtime menor a 3 o mayor a 600\n",
    "filter = {\n",
    "    \"$or\": [\n",
    "        {\n",
    "            \"runtime\": {\n",
    "                \"$lt\":3\n",
    "            }\n",
    "        },\n",
    "        {\n",
    "            \"runtime\": {\n",
    "                \"$gt\": 600\n",
    "            }\n",
    "        }\n",
    "    ]\n",
    "}\n",
    "\n",
    "moviesWithSmallOrBigRuntime = list(db.movies.find(filter, {'title', 'runtime'}))\n",
    "moviesWithSmallOrBigRuntime"
   ]
  },
  {
   "cell_type": "code",
   "execution_count": null,
   "id": "3068dea3",
   "metadata": {},
   "outputs": [],
   "source": [
    "# - find({}).sort(\"llave\", 1) El 'sort' permite ordenar los documentos conseguidos segun la 'llave' sobre\n",
    "#                             la que querramos ordenar y la forma de ordenar                            \n",
    "\n",
    "# Recuperar las peliculas del anho 2011, filtrar las llaves 'title' y 'awards', y ordenar las peliculas \n",
    "# de mayor a menor las peliculas segun la cantidad de premios ganados\n",
    "# Top 7 mejores peliculas del 2011\n",
    "topBestMovies = list(db.movies.find({\"year\": 2011 }, {'title', 'awards.wins'}).sort(\"awards.wins\", -1).limit(7))\n",
    "\n",
    "topBestMovies\n"
   ]
  },
  {
   "cell_type": "code",
   "execution_count": null,
   "id": "5ec50fee",
   "metadata": {},
   "outputs": [],
   "source": [
    "# - aggregate(pipeline)       Recupera los documentos segun operaciones especificadas como pares \n",
    "#                             llave-valor dentro del pipeline y ejecuta las operaciones en los documentos \n",
    "\n",
    "# Agrupar las peliculas segun su anho de salida, y contar los elementos de cada grupo(o sea contar cuantas peliculas salieron cada anho)\n",
    "pipeline = [\n",
    "    {\n",
    "        '$group': {\n",
    "            '_id': '$year', # Criterio para el agrupamiento de una llave\n",
    "            'count': {'$sum': 1} # Operacion de agrupamiento(mismo formato de los demas operadores del API)\n",
    "        }\n",
    "    }\n",
    "]\n",
    "\n",
    "result = moviesCollection.aggregate(pipeline)\n",
    "for item in result:\n",
    "    print(f\"Release year: {item['_id']}\\t Count: {item['count']}\")"
   ]
  },
  {
   "cell_type": "code",
   "execution_count": null,
   "id": "45b7bea4",
   "metadata": {},
   "outputs": [],
   "source": [
    "# - aggregate(pipeline)       Recupera los documentos segun operaciones especificadas como pares \n",
    "#                             llave-valor dentro del pipeline y ejecuta las operaciones en los documentos \n",
    "# Uso de la funcion 'aggregate' para conseguir la pelicula que mas premios ha ganado en 2014\n",
    "\n",
    "# En las siguinetes 3 variables, se crearan los operadores que luego se uniran por medio del 'pipeline' \n",
    "# y ejecutaran los 3 operadores sobre los datos\n",
    "stage_match_year = { \n",
    "    \"$match\": {\"year\": 2014}\n",
    "}\n",
    "stage_sort_awards_desc = {\n",
    "    \"$sort\" : {\"awards.wins\": -1}\n",
    "}\n",
    "stage_limit_1 = {\n",
    "    \"$limit\" : 1\n",
    "}\n",
    "pipeline = [\n",
    "    stage_match_year,\n",
    "    stage_sort_awards_desc,\n",
    "    stage_limit_1,\n",
    "]\n",
    "\n",
    "results = db.movies.aggregate(pipeline)\n",
    "resultsList = []\n",
    "\n",
    "for movie in results:\n",
    "    resultsList.append(movie)\n",
    "\n",
    "resultsList"
   ]
  }
 ],
 "metadata": {
  "kernelspec": {
   "display_name": "Python 3",
   "language": "python",
   "name": "python3"
  },
  "language_info": {
   "codemirror_mode": {
    "name": "ipython",
    "version": 3
   },
   "file_extension": ".py",
   "mimetype": "text/x-python",
   "name": "python",
   "nbconvert_exporter": "python",
   "pygments_lexer": "ipython3",
   "version": "3.12.4"
  }
 },
 "nbformat": 4,
 "nbformat_minor": 5
}
